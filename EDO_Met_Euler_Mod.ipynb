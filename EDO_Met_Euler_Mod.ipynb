{
 "cells": [
  {
   "cell_type": "code",
   "execution_count": 1,
   "metadata": {
    "tags": []
   },
   "outputs": [
    {
     "name": "stdout",
     "output_type": "stream",
     "text": [
      "y0 = 0.1\n",
      "y1 = 0.10101005\n",
      "y2 = 0.10204071115692044\n",
      "y3 = 0.10309262083016582\n",
      "y4 = 0.10416644293020881\n",
      "y5 = 0.10526286931564349\n",
      "y6 = 0.10638262127938337\n",
      "y7 = 0.10752645113071145\n",
      "y8 = 0.10869514388047256\n",
      "y9 = 0.1098895190373389\n",
      "y10 = 0.11111043252378414\n"
     ]
    }
   ],
   "source": [
    "###################### PARA UMA VARIÁVEL #########################\n",
    "# dy/dx = f, ENTÃO COLOQUE f COMO A DERIVADA DE y! TAMBEM MUDE a, b, n E O VALOR DE y(0) EM y = {0: 1}\n",
    "import numpy as np\n",
    "\n",
    "f = lambda x, y: y**2\n",
    "a = 0\n",
    "b = 1\n",
    "n = 10\n",
    "x = np.linspace(a, b, n+1)\n",
    "h = (b-a)/n\n",
    "y = {0: 0.1}\n",
    "for l in range(len(x)-1):\n",
    "    K1 = f(x[l], y[l])\n",
    "    K2 = f(x[l+1], y[l] + h*K1)\n",
    "    y[l+1] = y[l] + h/2 * (K1 + K2)\n",
    "for key, value in y.items():\n",
    "    print(f'y{key} = {value}')"
   ]
  },
  {
   "cell_type": "code",
   "execution_count": 2,
   "metadata": {
    "tags": []
   },
   "outputs": [
    {
     "name": "stdout",
     "output_type": "stream",
     "text": [
      "y0 = 1\n",
      "z0 = 2\n",
      "y1 = 1.19\n",
      "z1 = 1.792\n",
      "y2 = 1.3585376\n",
      "z2 = 1.57729463808\n",
      "y3 = 1.5055529934474496\n",
      "z3 = 1.3668193309994372\n",
      "y4 = 1.6319458318709532\n",
      "z4 = 1.1685935726928671\n",
      "y5 = 1.7392697820897034\n",
      "z5 = 0.9877329463219835\n",
      "y6 = 1.8294534063903405\n",
      "z6 = 0.826849641908758\n",
      "y7 = 1.9045749561114032\n",
      "z7 = 0.6866252458812124\n",
      "y8 = 1.9666988344618284\n",
      "z8 = 0.5663973518151427\n",
      "y9 = 2.0177689045850573\n",
      "z9 = 0.46466933898113993\n",
      "y10 = 2.05954786176762\n",
      "z10 = 0.37950730624338574\n"
     ]
    }
   ],
   "source": [
    "################################ PARA SISTEMA DE EDOs ########################\n",
    "# dy/dx = fy, d2y/dx = z2linhas = fz, ENTÃO COLOQUE DE ACORDO. MUDAR a, b, n E OS VALORES DE y(0) E z(0)\n",
    "fy = lambda x, y, z: z\n",
    "fz = lambda x, y, z: -z*y\n",
    "a = 0\n",
    "b = 1\n",
    "n = 10\n",
    "x = np.linspace(a, b, n+1)\n",
    "h = (b-a)/n\n",
    "y = {0: 1}\n",
    "z = {0: 2}\n",
    "for l in range(len(x)-1):\n",
    "    K1 = {'K11': fy(x[l], y[l], z[l]), 'K21': fz(x[l], y[l], z[l])}\n",
    "    K2 = {'K12': fy(x[l+1], y[l] + h*K1['K11'], z[l] + h*K1['K21']), 'K22': fz(x[l+1], y[l] + h*K1['K11'], z[l] + h*K1['K21'])}\n",
    "    y[l+1] = y[l] + h/2 * (K1['K11'] + K2['K12'])\n",
    "    z[l+1] = z[l] + h/2 * (K1['K21'] + K2['K22'])\n",
    "\n",
    "for tupy, tupz in zip(y.items(), z.items()):\n",
    "    print(f'y{tupy[0]} = {tupy[1]}')\n",
    "    print(f'z{tupz[0]} = {tupz[1]}')"
   ]
  }
 ],
 "metadata": {
  "kernelspec": {
   "display_name": "Python 3",
   "language": "python",
   "name": "python3"
  },
  "language_info": {
   "codemirror_mode": {
    "name": "ipython",
    "version": 3
   },
   "file_extension": ".py",
   "mimetype": "text/x-python",
   "name": "python",
   "nbconvert_exporter": "python",
   "pygments_lexer": "ipython3",
   "version": "3.7.7"
  }
 },
 "nbformat": 4,
 "nbformat_minor": 2
}
