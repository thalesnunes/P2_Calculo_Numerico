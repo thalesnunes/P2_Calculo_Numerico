{
 "cells": [
  {
   "cell_type": "code",
   "execution_count": 26,
   "metadata": {
    "tags": []
   },
   "outputs": [
    {
     "output_type": "execute_result",
     "data": {
      "text/plain": "{'R11': 1.01831563888873, 'R21': 0.877037260615809, 'R31': 0.880618634124539}"
     },
     "metadata": {},
     "execution_count": 26
    }
   ],
   "source": [
    "import numpy as np\n",
    "import sympy as sp\n",
    "\n",
    "X = sp.Symbol('x')\n",
    "\n",
    "f = sp.exp(-X**2)\n",
    "a = 0\n",
    "b = 2\n",
    "h = lambda k: (b-a)/2**(k-1)\n",
    "Rkj = {}\n",
    "for k in range(1, 4):\n",
    "    x = np.linspace(a, float(b), 2**(k-1)+1)\n",
    "    Rkj[f'R{k}1'] = (h(k)/2 * (f.subs(X, x[0]) + 2*sum([f.subs(X, xi) for xi in x[1:-1]]) + f.subs(X, x[-1]))).evalf()\n",
    "Rkj"
   ]
  },
  {
   "cell_type": "code",
   "execution_count": 27,
   "metadata": {},
   "outputs": [
    {
     "output_type": "execute_result",
     "data": {
      "text/plain": "{'R11': 1.01831563888873,\n 'R21': 0.877037260615809,\n 'R31': 0.880618634124539,\n 'R22': 0.829944467858168,\n 'R32': 0.881812425294116,\n 'R33': 0.885270289123179}"
     },
     "metadata": {},
     "execution_count": 27
    }
   ],
   "source": [
    "R_form = lambda k, j: Rkj[f'R{k}{j-1}'] + (1/(4**(j-1)-1)) * (Rkj[f'R{k}{j-1}'] - Rkj[f'R{k-1}{j-1}'])\n",
    "for j in range(2, 4):\n",
    "    for k in range(j, 4):\n",
    "        Rkj[f'R{k}{j}'] = R_form(k, j)\n",
    "Rkj"
   ]
  }
 ],
 "metadata": {
  "language_info": {
   "codemirror_mode": {
    "name": "ipython",
    "version": 3
   },
   "file_extension": ".py",
   "mimetype": "text/x-python",
   "name": "python",
   "nbconvert_exporter": "python",
   "pygments_lexer": "ipython3",
   "version": 3
  },
  "orig_nbformat": 2,
  "kernelspec": {
   "name": "python_defaultSpec_1594903869970",
   "display_name": "Python 3.7.7 64-bit ('base': conda)"
  }
 },
 "nbformat": 4,
 "nbformat_minor": 2
}