{
 "cells": [
  {
   "cell_type": "code",
   "execution_count": 1,
   "metadata": {
    "tags": []
   },
   "outputs": [
    {
     "output_type": "execute_result",
     "data": {
      "text/plain": "0.881812425294116",
      "text/latex": "$\\displaystyle 0.881812425294116$"
     },
     "metadata": {},
     "execution_count": 1
    }
   ],
   "source": [
    "import numpy as np\n",
    "import sympy as sp\n",
    "\n",
    "X = sp.Symbol('x')\n",
    "\n",
    "f = sp.exp(-X**2)\n",
    "a = 0\n",
    "b = 2\n",
    "n = 2\n",
    "h = (b-a)/(2*n)\n",
    "x = np.linspace(a, b, 2*n+1)\n",
    "summ = 0\n",
    "i = 1\n",
    "for xi in x[1:-1]:\n",
    "    if not i%2 == 0:\n",
    "        summ += 4*f.subs(X, xi)\n",
    "    else:\n",
    "        summ += 2*f.subs(X, xi)\n",
    "    i += 1\n",
    "integral = h/3 * (f.subs(X, x[0]) + summ + f.subs(X, x[-1]))\n",
    "integral.evalf()"
   ]
  },
  {
   "cell_type": "code",
   "execution_count": 18,
   "metadata": {},
   "outputs": [
    {
     "output_type": "execute_result",
     "data": {
      "text/plain": "-6/(x**4*log(10))",
      "text/latex": "$\\displaystyle - \\frac{6}{x^{4} \\log{\\left(10 \\right)}}$"
     },
     "metadata": {},
     "execution_count": 18
    }
   ],
   "source": [
    "f_der = f\n",
    "for _ in range(4):\n",
    "    f_der = sp.diff(f_der)\n",
    "f_der"
   ]
  },
  {
   "cell_type": "code",
   "execution_count": 20,
   "metadata": {
    "tags": []
   },
   "outputs": [
    {
     "output_type": "stream",
     "name": "stdout",
     "text": "0.00201062260140394\n"
    },
    {
     "output_type": "execute_result",
     "data": {
      "text/plain": "2.79253139083881e-6",
      "text/latex": "$\\displaystyle 2.79253139083881 \\cdot 10^{-6}$"
     },
     "metadata": {},
     "execution_count": 20
    }
   ],
   "source": [
    "maj = sp.Abs(f_der.subs(X, x[0]))\n",
    "print(maj.evalf())\n",
    "err = (b - a)**5/(2880*n**4) * maj\n",
    "err.evalf()"
   ]
  },
  {
   "cell_type": "code",
   "execution_count": 24,
   "metadata": {},
   "outputs": [
    {
     "output_type": "execute_result",
     "data": {
      "text/plain": "1.93"
     },
     "metadata": {},
     "execution_count": 24
    }
   ],
   "source": [
    "a = 0\n",
    "b = 1\n",
    "n = 2\n",
    "h = (b-a)/(2*n)\n",
    "x = np.array([0, 0.25, 0.5, 0.75, 1])\n",
    "y = np.array([1, 1.79, 3, 2, 1])\n",
    "summ = 0\n",
    "i = 1\n",
    "for xi in x[1:-1]:\n",
    "    if not i%2 == 0:\n",
    "        summ += 4*y[i]\n",
    "    else:\n",
    "        summ += 2*y[i]\n",
    "    i += 1\n",
    "integral = h/3 * (y[0] + summ + y[-1])\n",
    "integral"
   ]
  }
 ],
 "metadata": {
  "language_info": {
   "codemirror_mode": {
    "name": "ipython",
    "version": 3
   },
   "file_extension": ".py",
   "mimetype": "text/x-python",
   "name": "python",
   "nbconvert_exporter": "python",
   "pygments_lexer": "ipython3",
   "version": 3
  },
  "orig_nbformat": 2,
  "kernelspec": {
   "name": "python_defaultSpec_1594903775679",
   "display_name": "Python 3.7.7 64-bit ('base': conda)"
  }
 },
 "nbformat": 4,
 "nbformat_minor": 2
}