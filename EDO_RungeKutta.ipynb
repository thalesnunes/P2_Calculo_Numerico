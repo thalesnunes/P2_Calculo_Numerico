{
 "cells": [
  {
   "cell_type": "code",
   "execution_count": 1,
   "metadata": {
    "tags": []
   },
   "outputs": [
    {
     "name": "stdout",
     "output_type": "stream",
     "text": [
      "y0 = 2\n",
      "y1 = 2.00066677084375\n",
      "y2 = 2.00534043684368\n",
      "y3 = 2.0180812225094864\n",
      "y4 = 2.0431250029319274\n",
      "y5 = 2.085093773382293\n",
      "y6 = 2.149310640080478\n",
      "y7 = 2.2422514764126387\n",
      "y8 = 2.3721905334487983\n",
      "y9 = 2.5501370584557104\n",
      "y10 = 2.7912244379468767\n"
     ]
    }
   ],
   "source": [
    "import numpy as np\n",
    "\n",
    "f = lambda x, y: x**2 * y\n",
    "a = 0\n",
    "b = 1\n",
    "n = 10\n",
    "x = np.linspace(a, b, n+1)\n",
    "h = (b-a)/n\n",
    "y = {0: 2}\n",
    "for l in range(len(x)-1):\n",
    "    K1 = f(x[l], y[l])\n",
    "    K2 = f(x[l]+h/2, y[l]+h/2*K1)\n",
    "    K3 = f(x[l]+h/2, y[l]+h/2*K2)\n",
    "    K4 = f(x[l]+h, y[l]+h*K3)\n",
    "    y[l+1] = y[l] + h/6 * (K1 + 2*K2 + 2*K3 + K4)\n",
    "for key, value in y.items():\n",
    "    print(f'y{key} = {value}')"
   ]
  }
 ],
 "metadata": {
  "kernelspec": {
   "display_name": "Python 3",
   "language": "python",
   "name": "python3"
  },
  "language_info": {
   "codemirror_mode": {
    "name": "ipython",
    "version": 3
   },
   "file_extension": ".py",
   "mimetype": "text/x-python",
   "name": "python",
   "nbconvert_exporter": "python",
   "pygments_lexer": "ipython3",
   "version": "3.7.7"
  }
 },
 "nbformat": 4,
 "nbformat_minor": 2
}
