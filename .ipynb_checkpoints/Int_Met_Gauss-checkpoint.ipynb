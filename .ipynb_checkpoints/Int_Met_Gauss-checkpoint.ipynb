{
 "cells": [
  {
   "cell_type": "code",
   "execution_count": 6,
   "metadata": {},
   "outputs": [
    {
     "data": {
      "text/latex": [
       "$\\displaystyle 6.66666666666667$"
      ],
      "text/plain": [
       "6.66666666666667"
      ]
     },
     "execution_count": 6,
     "metadata": {},
     "output_type": "execute_result"
    }
   ],
   "source": [
    "# SOMENTE MUDAR A FUNÇÃO f, n\n",
    "### SÓ PODE SER USADO SE A INTEGRAL JÁ ESTÁ COM OS INTERVALOS DE -1 A 1 !!!!!!!!!!!!!!!!!!!\n",
    "import numpy as np\n",
    "import sympy as sp\n",
    "\n",
    "X = sp.Symbol('x')\n",
    "\n",
    "f = X**2 + 3\n",
    "n = 2\n",
    "a = -1\n",
    "b = 1\n",
    "Tabela = {1: {'xj': [0], 'wj': [2]},\n",
    "          2: {'xj': [3**0.5/3, -3**0.5/3], 'wj': [1, 1]},\n",
    "          3: {'xj': [0, (3/5)**0.5, -(3/5)**0.5], 'wj': [8/9, 5/9, 5/9]},\n",
    "          4: {'xj': [((3-2*(6/5)**0.5)/7)**0.5, -((3-2*(6/5)**0.5)/7)**0.5, ((3+2*(6/5)**0.5)/7)**0.5, -((3+2*(6/5)**0.5)/7)**0.5],\n",
    "              'wj': [(18+30**0.5)/36, (18+30**0.5)/36, (18-30**0.5)/36, (18-30**0.5)/36]}}\n",
    "summ = 0\n",
    "for it in range(len(Tabela[n]['xj'])):\n",
    "    summ += f.subs(X, Tabela[n]['xj'][it]) * Tabela[n]['wj'][it]\n",
    "summ.evalf()\n",
    "# RETORNA A APROXIMAÇÃO DA INTEGRAL PELO MÉTODO DE GAUSS"
   ]
  }
 ],
 "metadata": {
  "kernelspec": {
   "display_name": "Python 3",
   "language": "python",
   "name": "python3"
  },
  "language_info": {
   "codemirror_mode": {
    "name": "ipython",
    "version": 3
   },
   "file_extension": ".py",
   "mimetype": "text/x-python",
   "name": "python",
   "nbconvert_exporter": "python",
   "pygments_lexer": "ipython3",
   "version": "3.7.7"
  }
 },
 "nbformat": 4,
 "nbformat_minor": 2
}
