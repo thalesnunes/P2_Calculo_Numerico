{
 "cells": [
  {
   "cell_type": "code",
   "execution_count": 1,
   "metadata": {
    "tags": []
   },
   "outputs": [
    {
     "data": {
      "text/latex": [
       "$\\displaystyle 0.881812425294116$"
      ],
      "text/plain": [
       "0.881812425294116"
      ]
     },
     "execution_count": 1,
     "metadata": {},
     "output_type": "execute_result"
    }
   ],
   "source": [
    "################################# SE TIVER f ##################################\n",
    "# MUDAR f, a, b, n\n",
    "import numpy as np\n",
    "import sympy as sp\n",
    "\n",
    "X = sp.Symbol('x')\n",
    "\n",
    "f = sp.exp(-X**2)\n",
    "a = 0\n",
    "b = 2\n",
    "n = 2\n",
    "h = (b-a)/(2*n)\n",
    "x = np.linspace(a, b, 2*n+1)\n",
    "summ = 0\n",
    "i = 1\n",
    "for xi in x[1:-1]:\n",
    "    if not i%2 == 0:\n",
    "        summ += 4*f.subs(X, xi)\n",
    "    else:\n",
    "        summ += 2*f.subs(X, xi)\n",
    "    i += 1\n",
    "integral = h/3 * (f.subs(X, x[0]) + summ + f.subs(X, x[-1]))\n",
    "integral.evalf()\n",
    "# RETORNA A INTEGRAL"
   ]
  },
  {
   "cell_type": "code",
   "execution_count": 4,
   "metadata": {},
   "outputs": [
    {
     "data": {
      "text/latex": [
       "$\\displaystyle 4 \\left(4 x^{4} - 12 x^{2} + 3\\right) e^{- x^{2}}$"
      ],
      "text/plain": [
       "4*(4*x**4 - 12*x**2 + 3)*exp(-x**2)"
      ]
     },
     "execution_count": 4,
     "metadata": {},
     "output_type": "execute_result"
    }
   ],
   "source": [
    "# RETORNA A QUARTA DERIVADA DA FUNÇÃO f\n",
    "f_der = sp.diff(f, X, 4)\n",
    "f_der"
   ]
  },
  {
   "cell_type": "code",
   "execution_count": 5,
   "metadata": {
    "tags": []
   },
   "outputs": [
    {
     "name": "stdout",
     "output_type": "stream",
     "text": [
      "12.0000000000000\n"
     ]
    },
    {
     "data": {
      "text/latex": [
       "$\\displaystyle 0.00833333333333333$"
      ],
      "text/plain": [
       "0.00833333333333333"
      ]
     },
     "execution_count": 5,
     "metadata": {},
     "output_type": "execute_result"
    }
   ],
   "source": [
    "# MUDAR O VALOR x[0] PARA O PONTO QUE GERE O MAJORANTE EM SUA QUARTA DERIVADA\n",
    "maj = sp.Abs(f_der.subs(X, x[0]))\n",
    "print(maj.evalf())\n",
    "err = (b - a)**5/(2880*n**4) * maj\n",
    "err.evalf()\n",
    "# PRINTA O MAJORANTE E O ERRO"
   ]
  },
  {
   "cell_type": "code",
   "execution_count": 6,
   "metadata": {},
   "outputs": [
    {
     "data": {
      "text/plain": [
       "1.93"
      ]
     },
     "execution_count": 6,
     "metadata": {},
     "output_type": "execute_result"
    }
   ],
   "source": [
    "##################################### SE NÃO TIVER f #################################\n",
    "# MUDAR a, b, n, x, y\n",
    "a = 0\n",
    "b = 1\n",
    "n = 2\n",
    "h = (b-a)/(2*n)\n",
    "x = np.array([0, 0.25, 0.5, 0.75, 1])\n",
    "y = np.array([1, 1.79, 3, 2, 1])\n",
    "summ = 0\n",
    "i = 1\n",
    "for xi in x[1:-1]:\n",
    "    if not i%2 == 0:\n",
    "        summ += 4*y[i]\n",
    "    else:\n",
    "        summ += 2*y[i]\n",
    "    i += 1\n",
    "integral = h/3 * (y[0] + summ + y[-1])\n",
    "integral\n",
    "# RETORNA A INTEGRAL, NÃO CONSEGUI IMPLEMENTAR O ERRO DESTA PARTE"
   ]
  }
 ],
 "metadata": {
  "kernelspec": {
   "display_name": "Python 3",
   "language": "python",
   "name": "python3"
  },
  "language_info": {
   "codemirror_mode": {
    "name": "ipython",
    "version": 3
   },
   "file_extension": ".py",
   "mimetype": "text/x-python",
   "name": "python",
   "nbconvert_exporter": "python",
   "pygments_lexer": "ipython3",
   "version": "3.7.7"
  }
 },
 "nbformat": 4,
 "nbformat_minor": 2
}
