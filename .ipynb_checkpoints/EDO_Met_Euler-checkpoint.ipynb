{
 "cells": [
  {
   "cell_type": "code",
   "execution_count": 4,
   "metadata": {
    "tags": []
   },
   "outputs": [
    {
     "name": "stdout",
     "output_type": "stream",
     "text": [
      "y0 = 1.5\n",
      "y1 = 1.5\n",
      "y2 = 1.515\n",
      "y3 = 1.5453\n",
      "y4 = 1.591659\n",
      "y5 = 1.65532536\n",
      "y6 = 1.738091628\n",
      "y7 = 1.8423771256800001\n",
      "y8 = 1.9713435244776\n",
      "y9 = 2.129051006435808\n",
      "y10 = 2.3206655970150307\n"
     ]
    }
   ],
   "source": [
    "import numpy as np\n",
    "\n",
    "f = lambda x, y: x*y\n",
    "a = 0\n",
    "b = 1\n",
    "n = 10\n",
    "x = np.linspace(a, b, n+1)\n",
    "h = (b-a)/n\n",
    "y = {0: 1.5}\n",
    "for l in range(len(x)-1):\n",
    "    y[l+1] = y[l] + f(x[l], y[l])*h\n",
    "for key, value in y.items():\n",
    "    print(f'y{key} = {value}')"
   ]
  },
  {
   "cell_type": "code",
   "execution_count": 5,
   "metadata": {
    "tags": []
   },
   "outputs": [
    {
     "name": "stdout",
     "output_type": "stream",
     "text": [
      "y0 = 2\n",
      "z0 = 0\n",
      "y1 = 2.0\n",
      "z1 = -0.5\n",
      "y2 = 1.875\n",
      "z2 = -0.875\n",
      "y3 = 1.65625\n",
      "z3 = -1.125\n",
      "y4 = 1.375\n",
      "z4 = -1.2578125\n",
      "y5 = 1.060546875\n",
      "z5 = -1.287109375\n",
      "y6 = 0.73876953125\n",
      "z6 = -1.23046875\n",
      "y7 = 0.43115234375\n",
      "z7 = -1.1075439453125\n",
      "y8 = 0.154266357421875\n",
      "z8 = -0.938446044921875\n",
      "y9 = -0.08034515380859375\n",
      "z9 = -0.742401123046875\n",
      "y10 = -0.2659454345703125\n",
      "z10 = -0.5367145538330078\n"
     ]
    }
   ],
   "source": [
    "fy = lambda x, y, z: z\n",
    "fz = lambda x, y, z: -z -y\n",
    "a = 0\n",
    "b = 2.5\n",
    "n = 10\n",
    "x = np.linspace(a, b, n+1)\n",
    "h = (b-a)/n\n",
    "y = {0: 2}\n",
    "z = {0: 0}\n",
    "for l in range(len(x)-1):\n",
    "    z[l+1] = z[l] + fz(x[l], y[l], z[l])*h\n",
    "    y[l+1] = y[l] + fy(x[l], y[l], z[l])*h\n",
    "for tupy, tupz in zip(y.items(), z.items()):\n",
    "    print(f'y{tupy[0]} = {tupy[1]}')\n",
    "    print(f'z{tupz[0]} = {tupz[1]}')"
   ]
  }
 ],
 "metadata": {
  "kernelspec": {
   "display_name": "Python 3",
   "language": "python",
   "name": "python3"
  },
  "language_info": {
   "codemirror_mode": {
    "name": "ipython",
    "version": 3
   },
   "file_extension": ".py",
   "mimetype": "text/x-python",
   "name": "python",
   "nbconvert_exporter": "python",
   "pygments_lexer": "ipython3",
   "version": "3.7.7"
  }
 },
 "nbformat": 4,
 "nbformat_minor": 2
}
