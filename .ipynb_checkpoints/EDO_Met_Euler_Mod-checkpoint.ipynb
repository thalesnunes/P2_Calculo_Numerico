{
 "cells": [
  {
   "cell_type": "code",
   "execution_count": 35,
   "metadata": {
    "tags": []
   },
   "outputs": [
    {
     "name": "stdout",
     "output_type": "stream",
     "text": [
      "y0 = 1\n",
      "y1 = 1.21\n",
      "y2 = 1.44205\n",
      "y3 = 1.6984652500000001\n",
      "y4 = 1.9818041012500003\n",
      "y5 = 2.2948935318812502\n",
      "y6 = 2.6408573527287817\n",
      "y7 = 3.023147374765304\n",
      "y8 = 3.445577849115661\n",
      "y9 = 3.9123635232728056\n",
      "y10 = 4.42816169321645\n"
     ]
    }
   ],
   "source": [
    "import numpy as np\n",
    "\n",
    "f = lambda x, y: 1 + y\n",
    "a = 0\n",
    "b = 1\n",
    "n = 10\n",
    "x = np.linspace(a, b, n+1)\n",
    "h = (b-a)/n\n",
    "y = {0: 1}\n",
    "for l in range(len(x)-1):\n",
    "    K1 = f(x[l], y[l])\n",
    "    K2 = f(x[l+1], y[l] + h*K1)\n",
    "    y[l+1] = y[l] + h/2 * (K1 + K2)\n",
    "for key, value in y.items():\n",
    "    print(f'y{key} = {value}')"
   ]
  },
  {
   "cell_type": "code",
   "execution_count": 36,
   "metadata": {
    "tags": []
   },
   "outputs": [
    {
     "name": "stdout",
     "output_type": "stream",
     "text": [
      "y0 = 2\n",
      "z0 = 0\n",
      "y1 = 2.25\n",
      "z1 = 2.0\n",
      "y2 = 3.03125\n",
      "z2 = 4.5\n"
     ]
    }
   ],
   "source": [
    "fy = lambda x, y, z: z\n",
    "fz = lambda x, y, z: 4*y\n",
    "a = 0\n",
    "b = 0.5\n",
    "n = 2\n",
    "x = np.linspace(a, b, n+1)\n",
    "h = (b-a)/n\n",
    "y = {0: 2}\n",
    "z = {0: 0}\n",
    "for l in range(len(x)-1):\n",
    "    K1 = {'K11': fy(x[l], y[l], z[l]), 'K21': fz(x[l], y[l], z[l])}\n",
    "    K2 = {'K12': fy(x[l+1], y[l] + h*K1['K11'], z[l] + h*K1['K21']), 'K22': fz(x[l+1], y[l] + h*K1['K11'], z[l] + h*K1['K21'])}\n",
    "    y[l+1] = y[l] + h/2 * (K1['K11'] + K2['K12'])\n",
    "    z[l+1] = z[l] + h/2 * (K1['K21'] + K2['K22'])\n",
    "\n",
    "for tupy, tupz in zip(y.items(), z.items()):\n",
    "    print(f'y{tupy[0]} = {tupy[1]}')\n",
    "    print(f'z{tupz[0]} = {tupz[1]}')"
   ]
  }
 ],
 "metadata": {
  "kernelspec": {
   "display_name": "Python 3",
   "language": "python",
   "name": "python3"
  },
  "language_info": {
   "codemirror_mode": {
    "name": "ipython",
    "version": 3
   },
   "file_extension": ".py",
   "mimetype": "text/x-python",
   "name": "python",
   "nbconvert_exporter": "python",
   "pygments_lexer": "ipython3",
   "version": "3.7.7"
  }
 },
 "nbformat": 4,
 "nbformat_minor": 2
}
