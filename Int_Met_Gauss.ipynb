{
 "cells": [
  {
   "cell_type": "code",
   "execution_count": 6,
   "metadata": {},
   "outputs": [
    {
     "output_type": "execute_result",
     "data": {
      "text/plain": "6.66666666666667",
      "text/latex": "$\\displaystyle 6.66666666666667$"
     },
     "metadata": {},
     "execution_count": 6
    }
   ],
   "source": [
    "import numpy as np\n",
    "import sympy as sp\n",
    "\n",
    "X = sp.Symbol('x')\n",
    "\n",
    "f = X**2 + 3\n",
    "n = 2\n",
    "a = -1\n",
    "b = 1\n",
    "Tabela = {1: {'xj': [0], 'wj': [2]},\n",
    "          2: {'xj': [3**0.5/3, -3**0.5/3], 'wj': [1, 1]},\n",
    "          3: {'xj': [0, (3/5)**0.5, -(3/5)**0.5], 'wj': [8/9, 5/9, 5/9]},\n",
    "          4: {'xj': [((3-2*(6/5)**0.5)/7)**0.5, -((3-2*(6/5)**0.5)/7)**0.5, ((3+2*(6/5)**0.5)/7)**0.5, -((3+2*(6/5)**0.5)/7)**0.5],\n",
    "              'wj': [(18+30**0.5)/36, (18+30**0.5)/36, (18-30**0.5)/36, (18-30**0.5)/36]}}\n",
    "summ = 0\n",
    "for it in range(len(Tabela[n]['xj'])):\n",
    "    summ += f.subs(X, Tabela[n]['xj'][it]) * Tabela[n]['wj'][it]\n",
    "summ.evalf()"
   ]
  }
 ],
 "metadata": {
  "language_info": {
   "codemirror_mode": {
    "name": "ipython",
    "version": 3
   },
   "file_extension": ".py",
   "mimetype": "text/x-python",
   "name": "python",
   "nbconvert_exporter": "python",
   "pygments_lexer": "ipython3",
   "version": 3
  },
  "orig_nbformat": 2,
  "kernelspec": {
   "name": "python_defaultSpec_1594907639181",
   "display_name": "Python 3.7.7 64-bit ('base': conda)"
  }
 },
 "nbformat": 4,
 "nbformat_minor": 2
}