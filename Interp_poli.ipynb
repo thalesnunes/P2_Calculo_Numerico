{
 "cells": [
  {
   "cell_type": "code",
   "execution_count": 91,
   "metadata": {},
   "outputs": [],
   "source": [
    "def interp_coeffs(xvals, yvals):\n",
    "    \"\"\"\n",
    "    Return the divided-difference interpolating polynomial\n",
    "    coefficients based on xvals and yvals. The degree of\n",
    "    the interpolating polynomial will be inferred from data,\n",
    "    which will be 1 less than the number of data points.\n",
    "    \"\"\"\n",
    "    assert len(xvals)==len(yvals)\n",
    "    nbr_data_points = len(xvals)\n",
    "\n",
    "    # sort inputs by xvals =>\n",
    "    data = sorted(zip(xvals, yvals), reverse=False)\n",
    "    xvals, yvals = zip(*data)\n",
    "\n",
    "    depth      = 1\n",
    "    coeffs     = [yvals[0]]\n",
    "    iter_yvals = yvals\n",
    "\n",
    "    while depth < nbr_data_points:\n",
    "\n",
    "        iterdata = []\n",
    "\n",
    "        for i in range(len(iter_yvals)-1):\n",
    "\n",
    "            delta_y = iter_yvals[i+1]-iter_yvals[i]\n",
    "            delta_x = xvals[i+depth]-xvals[i]\n",
    "            iterval = (delta_y/delta_x)\n",
    "            iterdata.append(iterval)\n",
    "\n",
    "            # append top-most entries from table to coeffs =>\n",
    "            if i==0: coeffs.append(iterval)\n",
    "\n",
    "        iter_yvals = iterdata\n",
    "        depth+=1\n",
    "\n",
    "    return(coeffs)\n",
    "\n",
    "\n",
    "\n",
    "\n",
    "def interp_val(xvals, yvals):\n",
    "    \"\"\"\n",
    "    Return a function representing the interpolating\n",
    "    polynomial determined by xvals and yvals.\n",
    "    \"\"\"\n",
    "    assert len(xvals)==len(yvals)\n",
    "    nbr_data_points = len(xvals)\n",
    "\n",
    "    # sort inputs by xvals =>\n",
    "    data = sorted(zip(xvals, yvals), reverse=False)\n",
    "    xvals, yvals = zip(*data)\n",
    "\n",
    "    depth      = 1\n",
    "    coeffs     = [yvals[0]]\n",
    "    iter_yvals = yvals\n",
    "\n",
    "    while depth < nbr_data_points:\n",
    "\n",
    "        iterdata = []\n",
    "\n",
    "        for i in range(len(iter_yvals)-1):\n",
    "\n",
    "            delta_y = iter_yvals[i+1]-iter_yvals[i]\n",
    "            delta_x = xvals[i+depth]-xvals[i]\n",
    "            iterval = (delta_y/delta_x)\n",
    "            iterdata.append(iterval)\n",
    "\n",
    "            # append top-most entries in tree to coeffs =>\n",
    "            if i==0: coeffs.append(iterval)\n",
    "\n",
    "        iter_yvals = iterdata\n",
    "        depth+=1\n",
    "\n",
    "    def f(i):\n",
    "        \"\"\"\n",
    "        Evaluate interpolated estimate at x.\n",
    "        \"\"\"\n",
    "        terms  = []\n",
    "        retval = 0\n",
    "\n",
    "        for j in range(len(coeffs)):\n",
    "\n",
    "            iterval   = coeffs[j]\n",
    "            iterxvals = xvals[:j]\n",
    "            for k in iterxvals: iterval*=(i-k)\n",
    "            terms.append(iterval)\n",
    "            retval+=iterval\n",
    "        return(retval)\n",
    "    return(f)"
   ]
  },
  {
   "cell_type": "code",
   "execution_count": 129,
   "metadata": {
    "tags": []
   },
   "outputs": [
    {
     "output_type": "stream",
     "name": "stdout",
     "text": "L0: -x**3/6 + x**2 - 11*x/6 + 1\nL1: x**3/2 - 5*x**2/2 + 3*x\nL2: -x**3/2 + 2*x**2 - 3*x/2\nL3: x**3/6 - x**2/2 + x/3\n"
    }
   ],
   "source": [
    "from scipy.interpolate import lagrange\n",
    "import numpy as np\n",
    "from sympy import Symbol\n",
    "import sympy as sp\n",
    "X = Symbol('x')\n",
    "x = np.array([0, 1, 2, 3])\n",
    "y = np.array([1, 1, 7, 25])\n",
    "L = {}\n",
    "for i in range(len(x)):\n",
    "    L[f'L{i}'] = 1\n",
    "    for xi in x:\n",
    "        if xi != x[i]:\n",
    "            L[f'L{i}'] *= (X - xi)/(x[i] - xi)\n",
    "\n",
    "for key in L:\n",
    "    print(f'{key}: {sp.expand(L[key])}')"
   ]
  },
  {
   "cell_type": "code",
   "execution_count": 130,
   "metadata": {
    "tags": []
   },
   "outputs": [
    {
     "output_type": "stream",
     "name": "stdout",
     "text": "L0(1.5) = -0.0625000000000000\nL1(1.5) = 0.562500000000000\nL2(1.5) = 0.562500000000000\nL3(1.5) = -0.0625000000000000\n"
    }
   ],
   "source": [
    "pt = 1.5\n",
    "for key in L:\n",
    "    print(f'{key}({pt}) = {L[key].subs(X, pt)}')"
   ]
  },
  {
   "cell_type": "code",
   "execution_count": null,
   "metadata": {},
   "outputs": [],
   "source": [
    "poly = lagrange(x, y)\n",
    "poly"
   ]
  },
  {
   "cell_type": "code",
   "execution_count": 106,
   "metadata": {},
   "outputs": [
    {
     "output_type": "execute_result",
     "data": {
      "text/plain": "[1,\n 3.3333333333333335,\n 3.333333333333333,\n -31.11111111111111,\n 59.682539682539684]"
     },
     "metadata": {},
     "execution_count": 106
    }
   ],
   "source": [
    "x = np.array([0, 0.3, 0.5, 0.75, 1])\n",
    "y = np.array([1, 2, 3, 2, 1])\n",
    "divs = interp_coeffs(x, y)\n",
    "divs"
   ]
  },
  {
   "cell_type": "code",
   "execution_count": 107,
   "metadata": {},
   "outputs": [
    {
     "output_type": "execute_result",
     "data": {
      "text/plain": "59.6825396825397*x**4 - 123.619047619048*x**3 + 72.984126984127*x**2 - 9.04761904761905*x + 1.0",
      "text/latex": "$\\displaystyle 59.6825396825397 x^{4} - 123.619047619048 x^{3} + 72.984126984127 x^{2} - 9.04761904761905 x + 1.0$"
     },
     "metadata": {},
     "execution_count": 107
    }
   ],
   "source": [
    "px = divs[0]\n",
    "for i, coef in enumerate(divs[1:]):\n",
    "    mult = 1\n",
    "    for j in range(i+1):\n",
    "        mult *= (X - x[j])\n",
    "    px += coef*mult\n",
    "px.simplify()"
   ]
  },
  {
   "cell_type": "code",
   "execution_count": 99,
   "metadata": {},
   "outputs": [
    {
     "output_type": "execute_result",
     "data": {
      "text/plain": "1.7916666666666667"
     },
     "metadata": {},
     "execution_count": 99
    }
   ],
   "source": [
    "f_fin = interp_val(x, y)\n",
    "f_fin(0.25)"
   ]
  },
  {
   "cell_type": "code",
   "execution_count": 110,
   "metadata": {},
   "outputs": [
    {
     "output_type": "execute_result",
     "data": {
      "text/plain": "exp(x)",
      "text/latex": "$\\displaystyle e^{x}$"
     },
     "metadata": {},
     "execution_count": 110
    }
   ],
   "source": [
    "f = sp.cos(X/4)\n",
    "aprox = 1.5\n",
    "# x = np.array([1, 1.1, 1.2])\n",
    "# y = np.exp(x)\n",
    "n = 2\n",
    "f_der = f\n",
    "for _ in range(n+1):\n",
    "    f_der = sp.diff(f_der)\n",
    "f_der"
   ]
  },
  {
   "cell_type": "code",
   "execution_count": 111,
   "metadata": {},
   "outputs": [
    {
     "output_type": "execute_result",
     "data": {
      "text/plain": "0.000207507307671034",
      "text/latex": "$\\displaystyle 0.000207507307671034$"
     },
     "metadata": {},
     "execution_count": 111
    }
   ],
   "source": [
    "maj = f_der.subs(X, 1.2)\n",
    "err = 1\n",
    "for xi in x:\n",
    "    err *= (X - xi)\n",
    "err = sp.Abs(err) * maj/sp.factorial(n+1)\n",
    "err.subs(X, aprox)"
   ]
  }
 ],
 "metadata": {
  "language_info": {
   "codemirror_mode": {
    "name": "ipython",
    "version": 3
   },
   "file_extension": ".py",
   "mimetype": "text/x-python",
   "name": "python",
   "nbconvert_exporter": "python",
   "pygments_lexer": "ipython3",
   "version": 3
  },
  "orig_nbformat": 2,
  "kernelspec": {
   "name": "python_defaultSpec_1594764552359",
   "display_name": "Python 3.7.7 64-bit ('base': conda)"
  }
 },
 "nbformat": 4,
 "nbformat_minor": 2
}