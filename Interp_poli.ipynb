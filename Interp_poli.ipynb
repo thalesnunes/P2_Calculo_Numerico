{
 "cells": [
  {
   "cell_type": "code",
   "execution_count": 3,
   "metadata": {},
   "outputs": [],
   "source": [
    "# RODAR ESSA CÉLULA PARA FAZER OS IMPORTS E DEFINIR AS FUNÇÕES\n",
    "from scipy.interpolate import lagrange\n",
    "import numpy as np\n",
    "from sympy import Symbol\n",
    "import sympy as sp\n",
    "\n",
    "def interp_coeffs(xvals, yvals):\n",
    "    \"\"\"\n",
    "    Return the divided-difference interpolating polynomial\n",
    "    coefficients based on xvals and yvals. The degree of\n",
    "    the interpolating polynomial will be inferred from data,\n",
    "    which will be 1 less than the number of data points.\n",
    "    \"\"\"\n",
    "    assert len(xvals)==len(yvals)\n",
    "    nbr_data_points = len(xvals)\n",
    "\n",
    "    # sort inputs by xvals =>\n",
    "    data = sorted(zip(xvals, yvals), reverse=False)\n",
    "    xvals, yvals = zip(*data)\n",
    "\n",
    "    depth      = 1\n",
    "    coeffs     = [yvals[0]]\n",
    "    iter_yvals = yvals\n",
    "\n",
    "    while depth < nbr_data_points:\n",
    "\n",
    "        iterdata = []\n",
    "\n",
    "        for i in range(len(iter_yvals)-1):\n",
    "\n",
    "            delta_y = iter_yvals[i+1]-iter_yvals[i]\n",
    "            delta_x = xvals[i+depth]-xvals[i]\n",
    "            iterval = (delta_y/delta_x)\n",
    "            iterdata.append(iterval)\n",
    "\n",
    "            # append top-most entries from table to coeffs =>\n",
    "            if i==0: coeffs.append(iterval)\n",
    "\n",
    "        iter_yvals = iterdata\n",
    "        depth+=1\n",
    "\n",
    "    return(coeffs)\n",
    "\n",
    "\n",
    "\n",
    "\n",
    "def interp_val(xvals, yvals):\n",
    "    \"\"\"\n",
    "    Return a function representing the interpolating\n",
    "    polynomial determined by xvals and yvals.\n",
    "    \"\"\"\n",
    "    assert len(xvals)==len(yvals)\n",
    "    nbr_data_points = len(xvals)\n",
    "\n",
    "    # sort inputs by xvals =>\n",
    "    data = sorted(zip(xvals, yvals), reverse=False)\n",
    "    xvals, yvals = zip(*data)\n",
    "\n",
    "    depth      = 1\n",
    "    coeffs     = [yvals[0]]\n",
    "    iter_yvals = yvals\n",
    "\n",
    "    while depth < nbr_data_points:\n",
    "\n",
    "        iterdata = []\n",
    "\n",
    "        for i in range(len(iter_yvals)-1):\n",
    "\n",
    "            delta_y = iter_yvals[i+1]-iter_yvals[i]\n",
    "            delta_x = xvals[i+depth]-xvals[i]\n",
    "            iterval = (delta_y/delta_x)\n",
    "            iterdata.append(iterval)\n",
    "\n",
    "            # append top-most entries in tree to coeffs =>\n",
    "            if i==0: coeffs.append(iterval)\n",
    "\n",
    "        iter_yvals = iterdata\n",
    "        depth+=1\n",
    "\n",
    "    def f(i):\n",
    "        \"\"\"\n",
    "        Evaluate interpolated estimate at x.\n",
    "        \"\"\"\n",
    "        terms  = []\n",
    "        retval = 0\n",
    "\n",
    "        for j in range(len(coeffs)):\n",
    "\n",
    "            iterval   = coeffs[j]\n",
    "            iterxvals = xvals[:j]\n",
    "            for k in iterxvals: iterval*=(i-k)\n",
    "            terms.append(iterval)\n",
    "            retval+=iterval\n",
    "        return(retval)\n",
    "    return(f)"
   ]
  },
  {
   "cell_type": "code",
   "execution_count": 4,
   "metadata": {
    "tags": []
   },
   "outputs": [
    {
     "name": "stdout",
     "output_type": "stream",
     "text": [
      "L0: -x**3/6 + x**2 - 11*x/6 + 1\n",
      "L1: x**3/2 - 5*x**2/2 + 3*x\n",
      "L2: -x**3/2 + 2*x**2 - 3*x/2\n",
      "L3: x**3/6 - x**2/2 + x/3\n"
     ]
    }
   ],
   "source": [
    "#################### LAGRANGE ############################\n",
    "# SE FOR UM CASO DISCRETO, ONDE VC NAO TEM A FUNÇÃO, MUDAR OS VETORES X E Y A SEGUIR\n",
    "\n",
    "X = Symbol('x')\n",
    "x = np.array([0, 1, 2, 3])\n",
    "y = np.array([1, 1, 7, 25])\n",
    "L = {}\n",
    "for i in range(len(x)):\n",
    "    L[f'L{i}'] = 1\n",
    "    for xi in x:\n",
    "        if xi != x[i]:\n",
    "            L[f'L{i}'] *= (X - xi)/(x[i] - xi)\n",
    "\n",
    "for key in L:\n",
    "    print(f'{key}: {sp.expand(L[key])}')\n",
    "# IMPRIME TODOS OS POLINÔMIOS DE lAGRANGE"
   ]
  },
  {
   "cell_type": "code",
   "execution_count": 8,
   "metadata": {
    "tags": []
   },
   "outputs": [
    {
     "name": "stdout",
     "output_type": "stream",
     "text": [
      "L0(1.5) = -0.0625000000000000\n",
      "L1(1.5) = 0.562500000000000\n",
      "L2(1.5) = 0.562500000000000\n",
      "L3(1.5) = -0.0625000000000000\n"
     ]
    }
   ],
   "source": [
    "# SE PRECISAR TESTAR ALGUM PONTO NOS POLINÔMIOS DADOS ACIMA, MUDAR pt E RODAR\n",
    "pt = 1.5\n",
    "for key in L:\n",
    "    print(f'{key}({pt}) = {L[key].subs(X, pt)}')"
   ]
  },
  {
   "cell_type": "code",
   "execution_count": 9,
   "metadata": {},
   "outputs": [
    {
     "data": {
      "text/plain": [
       "poly1d([ 1.00000000e+00,  1.77635684e-15, -1.00000000e+00,  1.00000000e+00])"
      ]
     },
     "execution_count": 9,
     "metadata": {},
     "output_type": "execute_result"
    }
   ],
   "source": [
    "# RETORNA OS COEFICIENTES FINAIS POLINÔMIO FINAL DE LAGRANGE COMPLETO \n",
    "poly = lagrange(x, y)\n",
    "poly"
   ]
  },
  {
   "cell_type": "code",
   "execution_count": 14,
   "metadata": {},
   "outputs": [
    {
     "data": {
      "text/plain": [
       "[0.4444444444444444,\n",
       " 0.2222222222222222,\n",
       " 0.05555555555555558,\n",
       " 0.010416666666666657]"
      ]
     },
     "execution_count": 14,
     "metadata": {},
     "output_type": "execute_result"
    }
   ],
   "source": [
    "############################# NEWTON #############################\n",
    "# SE FOR CASO DISCRETO, MUDAR VETORES X E Y\n",
    "x = np.array([-2, -1, 0, 2])\n",
    "y = (3/2)**x\n",
    "divs = interp_coeffs(x, y)\n",
    "divs\n",
    "# RETORNA OS COEFICIENTES QUE SERÃO UTILIZADOS NO POLINÔMIO FINAL"
   ]
  },
  {
   "cell_type": "code",
   "execution_count": 33,
   "metadata": {},
   "outputs": [
    {
     "data": {
      "text/latex": [
       "$\\displaystyle 1.14660493827161$"
      ],
      "text/plain": [
       "1.14660493827161"
      ]
     },
     "execution_count": 33,
     "metadata": {},
     "output_type": "execute_result"
    }
   ],
   "source": [
    "# FAZ A ALGEBRA COM OS COEFICIENTES E RETORNA O POLINÔMIO APROXIMADOR FINAL\n",
    "px = divs[0]\n",
    "for i, coef in enumerate(divs[1:]):\n",
    "    mult = 1\n",
    "    for j in range(i+1):\n",
    "        mult *= (X - x[j])\n",
    "    px += coef*mult\n",
    "px.simplify().subs(X, 1/3)\n",
    "# sp.nsimplify(px.simplify().subs(X, 1/3), tolerance=0.001)"
   ]
  },
  {
   "cell_type": "code",
   "execution_count": 45,
   "metadata": {},
   "outputs": [
    {
     "data": {
      "text/latex": [
       "$\\displaystyle 1.45672579400657 \\cdot 0.333333333333333^{x}$"
      ],
      "text/plain": [
       "1.45672579400657*0.333333333333333**x"
      ]
     },
     "execution_count": 45,
     "metadata": {},
     "output_type": "execute_result"
    }
   ],
   "source": [
    "################################## CASO CONTÍNUO ###############################\n",
    "# SE VOCÊ TIVER A FUNÇÃO A SER APROXIMADA, UTILIZAR ESSAS ULTIMAS CÉLULAS\n",
    "# MUDAR f PARA A FUNÇÃO (USANDO SOMENTE SP. PARA QUE O MÓDULO NÃO DÊ ERRO.) EX: SP.COS(), SP.EXP, ETC.\n",
    "# COLOCAR EM APROX O PONTO A SER APROXIMADO E MUDAR OS VALORES DE X (SE TIVER Y TAMBEM)\n",
    "f = (1/3)**X\n",
    "aprox = 1/10\n",
    "x = np.array([-2, 0, 1, 3])\n",
    "y = (1/3)**x\n",
    "n = len(x)-1\n",
    "f_der = sp.diff(f, X, n+1)\n",
    "f_der\n",
    "# RETORNA A DERIVADA (N+1) DE f"
   ]
  },
  {
   "cell_type": "code",
   "execution_count": 46,
   "metadata": {},
   "outputs": [
    {
     "data": {
      "text/latex": [
       "$\\displaystyle 0.299411777885626$"
      ],
      "text/plain": [
       "0.299411777885626"
      ]
     },
     "execution_count": 46,
     "metadata": {},
     "output_type": "execute_result"
    }
   ],
   "source": [
    "# COLOCAR O PONTO QUE VAI GERAR O MAJORANTE NO LUGAR DE 1.2 E RODAR\n",
    "maj = f_der.subs(X, -2)\n",
    "err = 1\n",
    "for xi in x:\n",
    "    err *= (X - xi)\n",
    "err = sp.Abs(err) * sp.Abs(maj)/sp.factorial(n+1)\n",
    "err.subs(X, aprox)\n",
    "# RETORNA O ERRO APROXIMADO"
   ]
  }
 ],
 "metadata": {
  "kernelspec": {
   "display_name": "Python 3",
   "language": "python",
   "name": "python3"
  },
  "language_info": {
   "codemirror_mode": {
    "name": "ipython",
    "version": 3
   },
   "file_extension": ".py",
   "mimetype": "text/x-python",
   "name": "python",
   "nbconvert_exporter": "python",
   "pygments_lexer": "ipython3",
   "version": "3.7.7"
  }
 },
 "nbformat": 4,
 "nbformat_minor": 2
}
