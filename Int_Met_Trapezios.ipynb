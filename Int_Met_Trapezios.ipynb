{
 "cells": [
  {
   "cell_type": "code",
   "execution_count": 3,
   "metadata": {},
   "outputs": [
    {
     "output_type": "execute_result",
     "data": {
      "text/plain": "0.880618634124539",
      "text/latex": "$\\displaystyle 0.880618634124539$"
     },
     "metadata": {},
     "execution_count": 3
    }
   ],
   "source": [
    "import numpy as np\n",
    "import sympy as sp\n",
    "\n",
    "X = sp.Symbol('x')\n",
    "\n",
    "f = sp.exp(-X**2)\n",
    "a = 0\n",
    "b = 2\n",
    "n = 4\n",
    "h = (b-a)/n\n",
    "x = np.linspace(a, b, n+1)\n",
    "summ = 0\n",
    "for xi in x[1:-1]:\n",
    "    summ += f.subs(X, xi)\n",
    "integral = h/2 * (f.subs(X, x[0]) + 2*summ + f.subs(X, x[-1]))\n",
    "integral"
   ]
  },
  {
   "cell_type": "code",
   "execution_count": 71,
   "metadata": {},
   "outputs": [
    {
     "output_type": "execute_result",
     "data": {
      "text/plain": "-9/(6*x - 5)**(3/2)",
      "text/latex": "$\\displaystyle - \\frac{9}{\\left(6 x - 5\\right)^{\\frac{3}{2}}}$"
     },
     "metadata": {},
     "execution_count": 71
    }
   ],
   "source": [
    "f_der = f\n",
    "for _ in range(2):\n",
    "    f_der = sp.diff(f_der)\n",
    "f_der"
   ]
  },
  {
   "cell_type": "code",
   "execution_count": 72,
   "metadata": {},
   "outputs": [
    {
     "output_type": "execute_result",
     "data": {
      "text/plain": "-6.00000000000000",
      "text/latex": "$\\displaystyle -6.0$"
     },
     "metadata": {},
     "execution_count": 72
    }
   ],
   "source": [
    "err = n*h**3/12 * f_der.subs(X, x[0])\n",
    "err"
   ]
  },
  {
   "cell_type": "code",
   "execution_count": 40,
   "metadata": {
    "tags": []
   },
   "outputs": [
    {
     "output_type": "stream",
     "name": "stdout",
     "text": "I1 = 0.212\nI2 = 0.258\nI3 = 0.323\n"
    },
    {
     "output_type": "execute_result",
     "data": {
      "text/plain": "0.7929999999999999"
     },
     "metadata": {},
     "execution_count": 40
    }
   ],
   "source": [
    "a = 0\n",
    "b = 1\n",
    "x = np.array([0, 0.2, 0.4, 0.6, 0.8, 1])\n",
    "y = np.array([1, 1.12, 1.46, 1.77, 1.60, 1])\n",
    "integral = 0\n",
    "I = {}\n",
    "for i in range(len(x)-1):\n",
    "    I[f'I{i+1}'] = round((y[i+1]+y[i])*(x[i+1]-x[i])/2, 3)\n",
    "    integral += I[f'I{i+1}'] \n",
    "for key, value in I.items():\n",
    "    print(f'{key} = {value}')\n",
    "integral"
   ]
  },
  {
   "cell_type": "code",
   "execution_count": 46,
   "metadata": {},
   "outputs": [
    {
     "output_type": "execute_result",
     "data": {
      "text/plain": "2.28 - 0.849999999999999*x",
      "text/latex": "$\\displaystyle 2.28 - 0.849999999999999 x$"
     },
     "metadata": {},
     "execution_count": 46
    }
   ],
   "source": [
    "def find_line(pt0, pt1):\n",
    "    import sympy as sp\n",
    "\n",
    "    X = sp.Symbol('x')\n",
    "\n",
    "    return (pt0[1] + (pt1[1]-pt0[1]) * (X - pt0[0])/(pt1[0]-pt0[0])).expand()\n",
    "\n",
    "lin = find_line((0.6, 1.77), (0.8, 1.6))\n",
    "lin"
   ]
  },
  {
   "cell_type": "code",
   "execution_count": 47,
   "metadata": {},
   "outputs": [
    {
     "output_type": "execute_result",
     "data": {
      "text/plain": "[0.720431702161793, 4.64427418019115]"
     },
     "metadata": {},
     "execution_count": 47
    }
   ],
   "source": [
    "sp.solve((lin+1.77)*(X-0.6)/2 - (1-integral))"
   ]
  }
 ],
 "metadata": {
  "language_info": {
   "codemirror_mode": {
    "name": "ipython",
    "version": 3
   },
   "file_extension": ".py",
   "mimetype": "text/x-python",
   "name": "python",
   "nbconvert_exporter": "python",
   "pygments_lexer": "ipython3",
   "version": 3
  },
  "orig_nbformat": 2,
  "kernelspec": {
   "name": "python_defaultSpec_1594903775642",
   "display_name": "Python 3.7.7 64-bit ('base': conda)"
  }
 },
 "nbformat": 4,
 "nbformat_minor": 2
}