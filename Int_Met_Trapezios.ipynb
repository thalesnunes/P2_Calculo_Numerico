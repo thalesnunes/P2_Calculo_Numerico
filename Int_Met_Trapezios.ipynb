{
 "cells": [
  {
   "cell_type": "code",
   "execution_count": 13,
   "metadata": {},
   "outputs": [
    {
     "name": "stdout",
     "output_type": "stream",
     "text": [
      "[2.2        2.24571429 2.29142857 2.33714286 2.38285714 2.42857143]\n"
     ]
    },
    {
     "data": {
      "text/latex": [
       "$\\displaystyle 1.22528466472303$"
      ],
      "text/plain": [
       "1.22528466472303"
      ]
     },
     "execution_count": 13,
     "metadata": {},
     "output_type": "execute_result"
    }
   ],
   "source": [
    "######################### SE TIVER A FUNÇÃO f ##############################\n",
    "# ALTERAR A FUNÇÃO f E OS LIMITES DO INTERVALO a E b, ALÉM DO n\n",
    "import numpy as np\n",
    "import sympy as sp\n",
    "\n",
    "X = sp.Symbol('x')\n",
    "\n",
    "f = X**2\n",
    "a = 11/5\n",
    "b = 17/7\n",
    "n = 5\n",
    "h = (b-a)/n\n",
    "x = np.linspace(a, b, n+1)\n",
    "summ = 0\n",
    "for xi in x[1:-1]:\n",
    "    summ += f.subs(X, xi)\n",
    "integral = h/2 * (f.subs(X, x[0]) + 2*summ + f.subs(X, x[-1]))\n",
    "integral\n",
    "# RETORNA A INTEGRAL PELO MÉTODO DOS TRAPÉZIOS"
   ]
  },
  {
   "cell_type": "code",
   "execution_count": 4,
   "metadata": {},
   "outputs": [
    {
     "data": {
      "text/latex": [
       "$\\displaystyle 2$"
      ],
      "text/plain": [
       "2"
      ]
     },
     "execution_count": 4,
     "metadata": {},
     "output_type": "execute_result"
    }
   ],
   "source": [
    "# RETORNA A SEGUNDA DERIVADA DA FUNÇÃO f\n",
    "f_der = sp.diff(f, X, 2)\n",
    "f_der"
   ]
  },
  {
   "cell_type": "code",
   "execution_count": 72,
   "metadata": {},
   "outputs": [
    {
     "data": {
      "text/latex": [
       "$\\displaystyle -6.0$"
      ],
      "text/plain": [
       "-6.00000000000000"
      ]
     },
     "execution_count": 72,
     "metadata": {},
     "output_type": "execute_result"
    }
   ],
   "source": [
    "# CALCULA O ERRO DO MÉTODO, ALTERAR x[0] PARA QUE SEJA O VALOR DO MAJORANTE\n",
    "err = n*h**3/12 * f_der.subs(X, x[0])\n",
    "err"
   ]
  },
  {
   "cell_type": "code",
   "execution_count": 12,
   "metadata": {
    "tags": []
   },
   "outputs": [
    {
     "name": "stdout",
     "output_type": "stream",
     "text": [
      "I1 = 6.501\n",
      "I2 = -1.125\n"
     ]
    },
    {
     "data": {
      "text/plain": [
       "5.376"
      ]
     },
     "execution_count": 12,
     "metadata": {},
     "output_type": "execute_result"
    }
   ],
   "source": [
    "######################### SEM A FUNÇÃO f ################################\n",
    "# MUDAR OS INTERVALOS a E b, ALÉM DOS VETORES x E y\n",
    "a = 2\n",
    "b = 14\n",
    "x = np.array([2, 8, 14])\n",
    "y = np.array([2.667, -0.5, 0.125])\n",
    "integral = 0\n",
    "I = {}\n",
    "for i in range(len(x)-1):\n",
    "    I[f'I{i+1}'] = round((y[i+1]+y[i])*(x[i+1]-x[i])/2, 3)\n",
    "    integral += I[f'I{i+1}'] \n",
    "for key, value in I.items():\n",
    "    print(f'{key} = {value}')\n",
    "integral\n",
    "# RETORNA O CALCULO DO MÉTODO PRA CADA PONTO E A SOMA TOTAL DA INTEGRAL"
   ]
  },
  {
   "cell_type": "code",
   "execution_count": 46,
   "metadata": {},
   "outputs": [
    {
     "data": {
      "text/latex": [
       "$\\displaystyle 2.28 - 0.849999999999999 x$"
      ],
      "text/plain": [
       "2.28 - 0.849999999999999*x"
      ]
     },
     "execution_count": 46,
     "metadata": {},
     "output_type": "execute_result"
    }
   ],
   "source": [
    "# FUNÇÃO SOMENTE PRA ACHAR A EQUAÇÃO DE UMA LINHA ENTRE DOIS PONTOS\n",
    "def find_line(pt0, pt1):\n",
    "    import sympy as sp\n",
    "\n",
    "    X = sp.Symbol('x')\n",
    "\n",
    "    return (pt0[1] + (pt1[1]-pt0[1]) * (X - pt0[0])/(pt1[0]-pt0[0])).expand()\n",
    "# COLOCAR OS PONTOS EM TUPLAS, COMO A SEGUIR\n",
    "lin = find_line((0.6, 1.77), (0.8, 1.6))\n",
    "lin"
   ]
  },
  {
   "cell_type": "code",
   "execution_count": 47,
   "metadata": {},
   "outputs": [
    {
     "data": {
      "text/plain": [
       "[0.720431702161793, 4.64427418019115]"
      ]
     },
     "execution_count": 47,
     "metadata": {},
     "output_type": "execute_result"
    }
   ],
   "source": [
    "# RESOLVE O SISTEMA\n",
    "sp.solve((lin+1.77)*(X-0.6)/2 - (1-integral))"
   ]
  }
 ],
 "metadata": {
  "kernelspec": {
   "display_name": "Python 3",
   "language": "python",
   "name": "python3"
  },
  "language_info": {
   "codemirror_mode": {
    "name": "ipython",
    "version": 3
   },
   "file_extension": ".py",
   "mimetype": "text/x-python",
   "name": "python",
   "nbconvert_exporter": "python",
   "pygments_lexer": "ipython3",
   "version": "3.7.7"
  }
 },
 "nbformat": 4,
 "nbformat_minor": 2
}
