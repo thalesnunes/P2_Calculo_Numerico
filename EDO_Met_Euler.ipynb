{
 "cells": [
  {
   "cell_type": "code",
   "execution_count": 3,
   "metadata": {
    "scrolled": false,
    "tags": []
   },
   "outputs": [
    {
     "name": "stdout",
     "output_type": "stream",
     "text": [
      "y0 = -2\n",
      "y1 = -2.1777777777777776\n",
      "y2 = -2.3713580246913577\n",
      "y3 = -2.582145404663923\n",
      "y4 = -2.8116694406340494\n",
      "y5 = -3.0615956131348536\n",
      "y6 = -3.333737445413507\n",
      "y7 = -3.6300696627835967\n",
      "y8 = -3.952742521697694\n",
      "y9 = -4.304097412515267\n",
      "y10 = -4.68668384918329\n",
      "y11 = -5.103277969110694\n",
      "y12 = -5.5569026774760895\n",
      "y13 = -6.05084958214063\n",
      "y14 = -6.588702878330908\n",
      "y15 = -7.174365356404767\n"
     ]
    }
   ],
   "source": [
    "###################### PARA UMA VARIÁVEL #########################\n",
    "# dy/dx = f, ENTÃO COLOQUE f COMO A DERIVADA DE y! TAMBEM MUDE a, b, n E O VALOR DE y(0) EM y = {0: 1}\n",
    "import numpy as np\n",
    "\n",
    "f = lambda x, y: 4/3*y\n",
    "a = 0\n",
    "b = 1\n",
    "n = 15\n",
    "x = np.linspace(a, b, n+1)\n",
    "h = (b-a)/n\n",
    "y = {0: -2}\n",
    "for l in range(len(x)-1):\n",
    "    y[l+1] = y[l] + f(x[l], y[l])*h\n",
    "for key, value in y.items():\n",
    "    print(f'y{key} = {value}')\n",
    "# RETORNA TODAS AS ITERAÇÕES DE y PELO MÉTODO DE EULER"
   ]
  },
  {
   "cell_type": "code",
   "execution_count": 2,
   "metadata": {},
   "outputs": [
    {
     "name": "stdout",
     "output_type": "stream",
     "text": [
      "y0 = 7\n",
      "y1 = 6.4\n",
      "y2 = 5.851428571428571\n",
      "y3 = 5.349877551020408\n",
      "y4 = 4.891316618075802\n",
      "y5 = 4.472060907955019\n",
      "y6 = 4.088741401558874\n",
      "y7 = 3.7382778528538276\n",
      "y8 = 3.417854036894928\n",
      "y9 = 3.1248951194467915\n",
      "y10 = 2.8570469663513522\n",
      "y11 = 2.612157226378379\n",
      "y12 = 2.3882580355459466\n",
      "y13 = 2.1835502039277226\n",
      "y14 = 1.996388757876775\n",
      "y15 = 1.825269721487337\n"
     ]
    }
   ],
   "source": [
    "###################### PARA UMA VARIÁVEL #########################\n",
    "# dy/dx = f, ENTÃO COLOQUE f COMO A DERIVADA DE y! TAMBEM MUDE a, b, n E O VALOR DE y(0) EM y = {0: 1}\n",
    "import numpy as np\n",
    "\n",
    "f = lambda x, y: -9/7*y\n",
    "a = 0\n",
    "b = 1\n",
    "n = 15\n",
    "x = np.linspace(a, b, n+1)\n",
    "h = (b-a)/n\n",
    "y = {0: 7}\n",
    "for l in range(len(x)-1):\n",
    "    y[l+1] = y[l] + f(x[l], y[l])*h\n",
    "for key, value in y.items():\n",
    "    print(f'y{key} = {value}')\n",
    "# RETORNA TODAS AS ITERAÇÕES DE y PELO MÉTODO DE EULER"
   ]
  },
  {
   "cell_type": "code",
   "execution_count": 5,
   "metadata": {
    "tags": []
   },
   "outputs": [
    {
     "name": "stdout",
     "output_type": "stream",
     "text": [
      "y0 = 2\n",
      "z0 = 0\n",
      "y1 = 2.0\n",
      "z1 = -0.5\n",
      "y2 = 1.875\n",
      "z2 = -0.875\n",
      "y3 = 1.65625\n",
      "z3 = -1.125\n",
      "y4 = 1.375\n",
      "z4 = -1.2578125\n",
      "y5 = 1.060546875\n",
      "z5 = -1.287109375\n",
      "y6 = 0.73876953125\n",
      "z6 = -1.23046875\n",
      "y7 = 0.43115234375\n",
      "z7 = -1.1075439453125\n",
      "y8 = 0.154266357421875\n",
      "z8 = -0.938446044921875\n",
      "y9 = -0.08034515380859375\n",
      "z9 = -0.742401123046875\n",
      "y10 = -0.2659454345703125\n",
      "z10 = -0.5367145538330078\n"
     ]
    }
   ],
   "source": [
    "################################ PARA SISTEMA DE EDOs ########################\n",
    "# dy/dx = fy, d2y/dx = z2linhas = fz, ENTÃO COLOQUE DE ACORDO. MUDAR a, b, n E OS VALORES DE y(0) E z(0)\n",
    "fy = lambda x, y, z: z\n",
    "fz = lambda x, y, z: -z -y\n",
    "a = 0\n",
    "b = 2.5\n",
    "n = 10\n",
    "x = np.linspace(a, b, n+1)\n",
    "h = (b-a)/n\n",
    "y = {0: 2}\n",
    "z = {0: 0}\n",
    "for l in range(len(x)-1):\n",
    "    z[l+1] = z[l] + fz(x[l], y[l], z[l])*h\n",
    "    y[l+1] = y[l] + fy(x[l], y[l], z[l])*h\n",
    "for tupy, tupz in zip(y.items(), z.items()):\n",
    "    print(f'y{tupy[0]} = {tupy[1]}')\n",
    "    print(f'z{tupz[0]} = {tupz[1]}')"
   ]
  }
 ],
 "metadata": {
  "kernelspec": {
   "display_name": "Python 3",
   "language": "python",
   "name": "python3"
  },
  "language_info": {
   "codemirror_mode": {
    "name": "ipython",
    "version": 3
   },
   "file_extension": ".py",
   "mimetype": "text/x-python",
   "name": "python",
   "nbconvert_exporter": "python",
   "pygments_lexer": "ipython3",
   "version": "3.7.7"
  }
 },
 "nbformat": 4,
 "nbformat_minor": 2
}
